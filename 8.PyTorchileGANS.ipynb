{
 "cells": [
  {
   "cell_type": "markdown",
   "id": "982edd49",
   "metadata": {},
   "source": [
    "### 8.1 Gans "
   ]
  },
  {
   "cell_type": "markdown",
   "id": "2d769ce0",
   "metadata": {},
   "source": [
    "![ScreenS/8.1_Gans.PNG](ScreenS/8.1_Gans.PNG)"
   ]
  },
  {
   "cell_type": "markdown",
   "id": "54b06715",
   "metadata": {},
   "source": [
    "#### 8.2 Veri seti hazirlama"
   ]
  },
  {
   "cell_type": "code",
   "execution_count": 1,
   "id": "acbbdb71",
   "metadata": {},
   "outputs": [],
   "source": [
    "\"\"\"\n",
    "image generation: MNIST veri seti \n",
    "\n",
    "\"\"\"\n",
    "import torch\n",
    "import torch.nn as nn\n",
    "import torch.optim as optim\n",
    "import torchvision.transforms as transforms\n",
    "import torchvision.datasets as datasets\n",
    "import torchvision.utils as utils\n",
    "from torch.utils.data import DataLoader\n",
    "import matplotlib.pyplot as plt\n",
    "import numpy as np\n",
    "\n",
    "# %% veri seti hazirlama\n",
    "device = torch.device(\"cuda\" if torch.cuda.is_available() else \"cpu\")\n",
    "\n",
    "batch_size = 128 # mini batch boyutu\n",
    "image_size = 28*28 # goruntu boyutu\n",
    "\n",
    "transform = transforms.Compose([\n",
    "    transforms.ToTensor(), # goruntuleri tensore cevir\n",
    "    transforms.Normalize((0.5,), (0.5,)) # normalizasyon -> -1 ile 1 arasina sikistir\n",
    "    ])\n",
    "\n",
    "# MNIST veri setini yukleme\n",
    "dataset = datasets.MNIST(root = \"./data\", train = True, transform=transform, download=True)\n",
    "\n",
    "# veri setinin batchler halinde yukle\n",
    "dataLoader = DataLoader(dataset, batch_size = batch_size, shuffle = True)\n"
   ]
  },
  {
   "cell_type": "markdown",
   "id": "6b058464",
   "metadata": {},
   "source": [
    "#### 8.3 Dicriminator olusturma"
   ]
  },
  {
   "cell_type": "code",
   "execution_count": 2,
   "id": "83239585",
   "metadata": {},
   "outputs": [],
   "source": [
    "class Discriminator(nn.Module): # ayirt edici: generatorin uretmis oldugu goruntulerin gercek mi sahte mi oldugunu anlamaya calisacak \n",
    "    \n",
    "    def __init__(self):\n",
    "        super(Discriminator, self).__init__()\n",
    "        self.model = nn.Sequential(\n",
    "            nn.Linear(image_size, 1024), # input: image size, 1024: noron sayisi yani nu layerin outputu\n",
    "            nn.LeakyReLU(0.2), # aktivasyon fonksiyonu ve 0.2 lik egim\n",
    "            nn.Linear(1024, 512),  # 1024 ten 512 dugume\n",
    "            nn.LeakyReLU(0.2), \n",
    "            nn.Linear(512, 256), # 512 den 256 ya\n",
    "            nn.LeakyReLU(0.2),\n",
    "            nn.Linear(256,1), # 256 dan tek bir cikti gercek mi sahte mi \n",
    "            nn.Sigmoid() # ciktiyi 0-1 arasina getirir\n",
    "            )\n",
    "        \n",
    "    def forward(self, img):\n",
    "        return self.model(img.view(-1, image_size)) # goruntuyu duzlestirerek modele ver"
   ]
  },
  {
   "cell_type": "markdown",
   "id": "3872bee1",
   "metadata": {},
   "source": [
    "#### 8.4 Generator Olusturma"
   ]
  },
  {
   "cell_type": "code",
   "execution_count": 3,
   "id": "e93d58a4",
   "metadata": {},
   "outputs": [],
   "source": [
    "class Generator(nn.Module): # goruntu(28x28x1) olusturmak\n",
    "    \n",
    "    def __init__(self, z_dim):\n",
    "        super(Generator, self).__init__()\n",
    "        self.model = nn.Sequential(\n",
    "            nn.Linear(z_dim, 256), # giristen 256 dogume tam bagli katman\n",
    "            nn.ReLU(),\n",
    "            nn.Linear(256, 512), # 256 dan 512 dugume\n",
    "            nn.ReLU(),\n",
    "            nn.Linear(512, 1024), \n",
    "            nn.ReLU(),\n",
    "            nn.Linear(1024, image_size), # 1024 ten 784 e cevrim\n",
    "            nn.Tanh() # cikis aktivasyon fonksiyonu  \n",
    "            )\n",
    "    \n",
    "    def forward(self,x):\n",
    "        return self.model(x).view(-1, 1, 28, 28) # ciktiyi 28x28 lik goruntuye cevirir"
   ]
  },
  {
   "cell_type": "markdown",
   "id": "7af32065",
   "metadata": {},
   "source": [
    "#### 8.5 Gan Egitme"
   ]
  },
  {
   "cell_type": "code",
   "execution_count": 4,
   "id": "df25c2e0",
   "metadata": {},
   "outputs": [
    {
     "name": "stdout",
     "output_type": "stream",
     "text": [
      "Epoch 1/20 d_loss: 1.052, g_loss: 5.763\n",
      "Epoch 2/20 d_loss: 0.161, g_loss: 3.982\n",
      "Epoch 3/20 d_loss: 0.514, g_loss: 1.813\n",
      "Epoch 4/20 d_loss: 0.088, g_loss: 2.473\n",
      "Epoch 5/20 d_loss: 0.553, g_loss: 1.815\n",
      "Epoch 6/20 d_loss: 2.012, g_loss: 8.211\n",
      "Epoch 7/20 d_loss: 0.358, g_loss: 4.721\n",
      "Epoch 8/20 d_loss: 0.263, g_loss: 2.576\n",
      "Epoch 9/20 d_loss: 0.448, g_loss: 1.398\n",
      "Epoch 10/20 d_loss: 0.428, g_loss: 2.711\n",
      "Epoch 11/20 d_loss: 0.795, g_loss: 1.260\n",
      "Epoch 12/20 d_loss: 0.676, g_loss: 2.205\n",
      "Epoch 13/20 d_loss: 0.760, g_loss: 2.529\n",
      "Epoch 14/20 d_loss: 0.893, g_loss: 1.629\n",
      "Epoch 15/20 d_loss: 0.831, g_loss: 1.703\n",
      "Epoch 16/20 d_loss: 1.044, g_loss: 1.222\n",
      "Epoch 17/20 d_loss: 0.876, g_loss: 1.619\n",
      "Epoch 18/20 d_loss: 0.798, g_loss: 1.481\n",
      "Epoch 19/20 d_loss: 0.964, g_loss: 1.158\n",
      "Epoch 20/20 d_loss: 0.834, g_loss: 2.096\n"
     ]
    }
   ],
   "source": [
    "# hyperparameters\n",
    "learning_rate = 0.0002 # learning rate\n",
    "z_dim = 100 # rastgele gurultu vektor boyutu (noise goruntusu)\n",
    "epochs = 20 # egitim dongu sayisi\n",
    "\n",
    "# model baslatma: generator ve discriminator tanimla\n",
    "generator = Generator(z_dim).to(device)\n",
    "discriminator = Discriminator().to(device)\n",
    "\n",
    "# kayip fonksiyonu ve optimizasyon algoritmalarinin tanimlanmasi\n",
    "criterion = nn.BCELoss() # binary cross entropy\n",
    "g_optimizer = optim.Adam(generator.parameters(), lr = learning_rate, betas = (0.5, 0.999)) # generator optimizer\n",
    "d_optimizer = optim.Adam(discriminator.parameters(), lr = learning_rate, betas = (0.5, 0.999)) # discriminator \n",
    "\n",
    "# egitim dongusun baslatilmasi\n",
    "for epoch in range(epochs):\n",
    "    for i, (real_imgs, _) in enumerate(dataLoader): # goruntulerin yuklenmesi\n",
    "        real_imgs = real_imgs.to(device)\n",
    "        batch_size = real_imgs.size(0)  # mevcut batchin boyutunu al\n",
    "        real_labels = torch.ones(batch_size, 1).to(device) # gercek goruntuleri 1 olarak etiketle\n",
    "        fake_labels = torch.zeros(batch_size, 1).to(device) # fake goruntuleri 0 olarak etiketle\n",
    "        \n",
    "        # discriminator egitimi \n",
    "        z = torch.randn(batch_size, z_dim).to(device) # rastgele gurultu uret\n",
    "        fake_imgs = generator(z) # generator ile sahte goruntu olustur\n",
    "        real_loss = criterion(discriminator(real_imgs), real_labels) # gercek goruntu kaybi\n",
    "        fake_loss = criterion(discriminator(fake_imgs.detach()), fake_labels) # sahte goruntulerin kaybi\n",
    "        d_loss = real_loss + fake_loss # toplam discriminator kaybi\n",
    "        \n",
    "        d_optimizer.zero_grad() # gradyanlari sifirla\n",
    "        d_loss.backward() # geriye yayilim\n",
    "        d_optimizer.step() # parametreleri guncelle\n",
    "        \n",
    "        # generator egitilmesi\n",
    "        g_loss = criterion(discriminator(fake_imgs), real_labels) # generator kaybi\n",
    "        g_optimizer.zero_grad() # gradyanlari sifirla\n",
    "        g_loss.backward()  # geriye yayilim\n",
    "        g_optimizer.step()  # parametreleri guncelle\n",
    "    \n",
    "    print(f\"Epoch {epoch + 1}/{epochs} d_loss: {d_loss.item():.3f}, g_loss: {g_loss.item():.3f}\")\n"
   ]
  },
  {
   "cell_type": "markdown",
   "id": "fc0e7432",
   "metadata": {},
   "source": [
    "#### 8.6 Modelin Test Edilmesi ve Degerlendirilmesi"
   ]
  },
  {
   "cell_type": "code",
   "execution_count": 5,
   "id": "6c3661f8",
   "metadata": {},
   "outputs": [
    {
     "data": {
      "image/png": "[encoded data removed]",
      "text/plain": [
       "<Figure size 640x480 with 1 Axes>"
      ]
     },
     "metadata": {},
     "output_type": "display_data"
    }
   ],
   "source": [
    "# rastgele gurultu ile goruntu olusturma\n",
    "with torch.no_grad():\n",
    "    z = torch.randn(16, z_dim).to(device) # 16 adet rastgele gurultu olustur\n",
    "    sample_imgs = generator(z).cpu() # generator ile sahte goruntu olusturma\n",
    "    grid = np.transpose(utils.make_grid(sample_imgs, nrow=4, normalize=True), (1,2,0)) #goruntuleri izgara gorunmundde duzenle\n",
    "    plt.imshow(grid)\n",
    "    plt.show()\n"
   ]
  }
 ],
 "metadata": {
  "kernelspec": {
   "display_name": "Python 3",
   "language": "python",
   "name": "python3"
  },
  "language_info": {
   "codemirror_mode": {
    "name": "ipython",
    "version": 3
   },
   "file_extension": ".py",
   "mimetype": "text/x-python",
   "name": "python",
   "nbconvert_exporter": "python",
   "pygments_lexer": "ipython3",
   "version": "3.11.6"
  }
 },
 "nbformat": 4,
 "nbformat_minor": 5
}
