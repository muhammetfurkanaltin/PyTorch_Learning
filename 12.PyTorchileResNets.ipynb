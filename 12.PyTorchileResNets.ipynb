{
 "cells": [
  {
   "cell_type": "markdown",
   "id": "9ff17746",
   "metadata": {},
   "source": [
    "### 12.1 ResNets"
   ]
  },
  {
   "cell_type": "markdown",
   "id": "9ea473ac",
   "metadata": {},
   "source": [
    "![ScreenS/12.Resnets.PNG](ScreenS/12.Resnets.PNG)"
   ]
  },
  {
   "cell_type": "markdown",
   "id": "705848e2",
   "metadata": {},
   "source": [
    "#### 12.2 Veri Seti Hazirlanmasi"
   ]
  },
  {
   "cell_type": "code",
   "execution_count": 1,
   "id": "bf9ef86c",
   "metadata": {},
   "outputs": [],
   "source": [
    "\"\"\"\n",
    "Resnet siniflandirma -> CIFAR10 \n",
    "    - transfer learning\n",
    "    - custom resnet build\n",
    "\"\"\"\n",
    "import torch\n",
    "import torch.nn as nn\n",
    "import torch.optim as optim\n",
    "import torchvision\n",
    "import torchvision.transforms as transforms\n",
    "from torchvision import models # onceden egitilmis modelleri iceriye aktar\n",
    "from tqdm import tqdm # ilerleme cubugu\n",
    "\n",
    "# %% veri yukleme \n",
    "device = torch.device(\"cuda\" if torch.cuda.is_available() else \"cpu\")\n",
    "\n",
    "# veri yukleme islemi\n",
    "transform = transforms.Compose([\n",
    "    transforms.ToTensor(), # gorselleri tensore cevir\n",
    "    transforms.Normalize((0.5, 0.5, 0.5), (0.5, 0.5, 0.5))\n",
    "    ])\n",
    "\n",
    "# CIFAR10 veri kumesi indir ve yukle\n",
    "trainset = torchvision.datasets.CIFAR10(root = \"./data\", train = True, download=True, transform = transform)\n",
    "testset = torchvision.datasets.CIFAR10(root = \"./data\", train = False, download = True, transform = transform)\n",
    "\n",
    "# data loader\n",
    "train_loader = torch.utils.data.DataLoader(trainset, batch_size=64, shuffle=True)\n",
    "test_loader = torch.utils.data.DataLoader(testset, batch_size=64, shuffle=False)"
   ]
  },
  {
   "cell_type": "markdown",
   "id": "6e9c4a3f",
   "metadata": {},
   "source": [
    "#### 12.3 Residual Block"
   ]
  },
  {
   "cell_type": "code",
   "execution_count": 2,
   "id": "ef94b4a8",
   "metadata": {},
   "outputs": [],
   "source": [
    "class ResidualBlock(nn.Module):\n",
    "    \n",
    "    def __init__(self, in_channels, out_channels, stride = 1, downsample = None):\n",
    "        \n",
    "        \"\"\"\n",
    "        cov2d -> batchNorm -> relu -> con2d -> batchNorm -> downsampling \n",
    "        \"\"\"\n",
    "        \n",
    "        super(ResidualBlock, self).__init__()\n",
    "        \n",
    "        # 3x3 conv2d\n",
    "        self.conv1 = nn.Conv2d(in_channels=in_channels, out_channels=out_channels, kernel_size=3, stride = stride, padding = 1, bias = False)\n",
    "        \n",
    "        # batch normalization katmani\n",
    "        self.bn1 = nn.BatchNorm2d(out_channels)\n",
    "        \n",
    "        # relu aktivasyon fonksiyonu\n",
    "        self.relu = nn.ReLU()\n",
    "        \n",
    "        # 3x3 conv2d\n",
    "        self.conv2 = nn.Conv2d(out_channels, out_channels, kernel_size = 3, stride = 1, padding = 1, bias = False)\n",
    "        \n",
    "        # batch normalization layer\n",
    "        self.bn2 = nn.BatchNorm2d(out_channels)\n",
    "        \n",
    "        # downsampling\n",
    "        self.downsample = downsample\n",
    "    \n",
    "    def forward(self, x):\n",
    "        \n",
    "        identity = x # kendi kendine baglanacak giris verisi \n",
    "        \n",
    "        if self.downsample is not None:\n",
    "            identity = self.downsample(x) \n",
    "            \n",
    "        out = self.conv1(x) # ilk con islemi\n",
    "        out = self.bn1(out)\n",
    "        out = self.relu(out)\n",
    "        out = self.conv2(out)\n",
    "        out = self.bn2(out)\n",
    "        out = out + identity # skip connection\n",
    "        out = self.relu(out)\n",
    "        \n",
    "        return out "
   ]
  },
  {
   "cell_type": "markdown",
   "id": "e7a91117",
   "metadata": {},
   "source": [
    "#### 12.4 ResNet Oluşturma"
   ]
  },
  {
   "cell_type": "code",
   "execution_count": 3,
   "id": "ac64c5f7",
   "metadata": {},
   "outputs": [],
   "source": [
    "class CustomResNet(nn.Module):\n",
    "    \n",
    "    def __init__(self, num_classes = 10):\n",
    "        \"\"\"\n",
    "            conv2d -> batchNorm -> relu -> maxpool -> 4 x layer -> avgpool -> fc\n",
    "        \"\"\"\n",
    "        super(CustomResNet, self).__init__()\n",
    "        \n",
    "        # ilk conv\n",
    "        self.conv1 = nn.Conv2d(3, 64, kernel_size = 7, stride = 2, padding  = 3, bias = False)\n",
    "        \n",
    "        # batch normalization\n",
    "        self.bn1 = nn.BatchNorm2d(64)\n",
    "        \n",
    "        # relu\n",
    "        self.relu = nn.ReLU()\n",
    "        \n",
    "        # max pooling\n",
    "        self.maxpool = nn.MaxPool2d(kernel_size=3, stride=2, padding=1)\n",
    "        \n",
    "        # 4 x make layer\n",
    "        self.layer1 = self._make_layer(64,64,2) # 64 kanalli ilk katman\n",
    "        self.layer2 = self._make_layer(64, 128, 2, 2)\n",
    "        self.layer3 = self._make_layer(128, 256, 2, 2)\n",
    "        self.layer4 = self._make_layer(256, 512, 2, 2)\n",
    "        \n",
    "        # avg pooling\n",
    "        self.avgpool = nn.AdaptiveAvgPool2d((1,1))\n",
    "        \n",
    "        # tam bagli layer\n",
    "        self.fc = nn.Linear(512, num_classes)\n",
    "        \n",
    "    \n",
    "    def _make_layer(self, in_channels, out_channels, blocks, stride = 1): # residual katmanlari olusturan fonksiyon\n",
    "        downsample = None \n",
    "        if stride != 1 or in_channels != out_channels:\n",
    "            downsample = nn.Sequential(\n",
    "                nn.Conv2d(in_channels, out_channels, kernel_size=1, stride = stride, bias = False),\n",
    "                nn.BatchNorm2d(out_channels)\n",
    "                )\n",
    "        \n",
    "        # ilk residual block\n",
    "        layers = [ResidualBlock(in_channels, out_channels, stride, downsample)]\n",
    "        # sonraki residual bloklar\n",
    "        for _ in range(1, blocks):\n",
    "            layers.append(ResidualBlock(out_channels, out_channels))\n",
    "        return nn.Sequential(*layers)\n",
    "    \n",
    "    def forward(self, x):\n",
    "        \n",
    "        x = self.conv1(x) # ilk conv\n",
    "        x = self.bn1(x) # batch normalization\n",
    "        x = self.relu(x) # aktivssyon\n",
    "        x = self.maxpool(x) # pooling\n",
    "        \n",
    "        # resnet bloklarini sirayla uygulayalim\n",
    "        x = self.layer1(x)\n",
    "        x = self.layer2(x)\n",
    "        x = self.layer3(x)\n",
    "        x = self.layer4(x)\n",
    "        \n",
    "        x = self.avgpool(x) # pooling\n",
    "        x = torch.flatten(x, 1)\n",
    "        x = self.fc(x) # tam bagli katman\n",
    "        \n",
    "        return x"
   ]
  },
  {
   "cell_type": "markdown",
   "id": "0a1dea7f",
   "metadata": {},
   "source": [
    "#### 12.5 Model Eğitimi"
   ]
  },
  {
   "cell_type": "code",
   "execution_count": 4,
   "id": "f3b9eed3",
   "metadata": {},
   "outputs": [
    {
     "name": "stderr",
     "output_type": "stream",
     "text": [
      "100%|██████████| 782/782 [09:17<00:00,  1.40it/s]\n",
      "100%|██████████| 1/1 [09:17<00:00, 557.95s/it]"
     ]
    },
    {
     "name": "stdout",
     "output_type": "stream",
     "text": [
      "Epoch 1/1, loss: 1.3818357848297909\n"
     ]
    },
    {
     "name": "stderr",
     "output_type": "stream",
     "text": [
      "\n"
     ]
    }
   ],
   "source": [
    "use_custom_model = True # eger true ise custom modelimiz calissin\n",
    "if use_custom_model:\n",
    "    model = CustomResNet().to(device) \n",
    "else:\n",
    "    model = models.resnet18(pretrained = True) # hazir resnet 18 modeli ile fine tuning\n",
    "    num_ftrs = model.fc.in_features # tam bagli katmandaki giris boyutu\n",
    "    model.fc = nn.Sequential( # kendi siniflandiri blok\n",
    "        nn.Linear(num_ftrs, 256),\n",
    "        nn.ReLU(),\n",
    "        nn.Linear(256, 10)) # output layer\n",
    "    model = model.to(device)\n",
    "    \n",
    "# loss function and optimizer\n",
    "criterion = nn.CrossEntropyLoss() \n",
    "optimizer = optim.Adam(model.parameters(), lr = 0.001)\n",
    "\n",
    "# model egitmee asamasi\n",
    "num_epochs = 1\n",
    "for epoch in tqdm(range(num_epochs)):\n",
    "    model.train()\n",
    "    running_loss = 0\n",
    "    \n",
    "    for images, labels in tqdm(train_loader):\n",
    "        images, labels = images.to(device), labels.to(device)\n",
    "        optimizer.zero_grad() # gradyanlarin sifirlanmasi\n",
    "        outputs = model(images) # modeli ileri besleme\n",
    "        loss = criterion(outputs, labels) # loss calculate\n",
    "        loss.backward()  # geri yayilim\n",
    "        optimizer.step()  # weights update\n",
    "        running_loss += loss.item()\n",
    "        \n",
    "    print(f\"Epoch {epoch+1}/{num_epochs}, loss: {running_loss/len(train_loader)}\")"
   ]
  },
  {
   "cell_type": "markdown",
   "id": "2dabfa7a",
   "metadata": {},
   "source": [
    "#### 12.6 Modelin Test Edilmesi ve Değerlendirilmesi"
   ]
  },
  {
   "cell_type": "code",
   "execution_count": 5,
   "id": "3a893289",
   "metadata": {},
   "outputs": [
    {
     "name": "stdout",
     "output_type": "stream",
     "text": [
      "Test accuracy: 59.5%\n"
     ]
    }
   ],
   "source": [
    "model.eval()\n",
    "correct = 0 \n",
    "total = 0 \n",
    "with torch.no_grad():\n",
    "    for images, labels in test_loader:\n",
    "        images, labels = images.to(device), labels.to(device)\n",
    "        outputs = model(images)\n",
    "        _, predicted = torch.max(outputs, 1)\n",
    "        total += labels.size(0)\n",
    "        correct += (predicted == labels).sum().item()\n",
    "print(f\"Test accuracy: {100 * correct / total}%\")"
   ]
  }
 ],
 "metadata": {
  "kernelspec": {
   "display_name": "Python 3",
   "language": "python",
   "name": "python3"
  },
  "language_info": {
   "codemirror_mode": {
    "name": "ipython",
    "version": 3
   },
   "file_extension": ".py",
   "mimetype": "text/x-python",
   "name": "python",
   "nbconvert_exporter": "python",
   "pygments_lexer": "ipython3",
   "version": "3.11.6"
  }
 },
 "nbformat": 4,
 "nbformat_minor": 5
}
