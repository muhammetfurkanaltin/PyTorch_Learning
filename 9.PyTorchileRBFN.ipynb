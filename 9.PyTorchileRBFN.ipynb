{
 "cells": [
  {
   "cell_type": "markdown",
   "id": "95bc3888",
   "metadata": {},
   "source": [
    "### 9.1 RBFN "
   ]
  },
  {
   "cell_type": "markdown",
   "id": "9da1d542",
   "metadata": {},
   "source": [
    "#### 9.2 Veri Seti hazirlama ve Ön işleme"
   ]
  },
  {
   "cell_type": "code",
   "execution_count": 2,
   "id": "5e335691",
   "metadata": {},
   "outputs": [],
   "source": [
    "# https://archive.ics.uci.edu/dataset/53/iris\n",
    "\n",
    "import torch\n",
    "import torch.nn as nn\n",
    "import torch.optim as optim\n",
    "import pandas as pd \n",
    "from sklearn.model_selection import train_test_split\n",
    "from sklearn.preprocessing import StandardScaler\n",
    "\n",
    "# siniflandirma problemi: iris veri seti 3 farkli sinifa ait siniflandirma problemi\n",
    "\n",
    "df = pd.read_csv(\"iris.data\", header = None)\n",
    "\n",
    "X = df.iloc[:, :-1].values # ilk 4 sutunu x degiskenine atar\n",
    "y, _ = pd.factorize(df.iloc[:, -1])\n",
    "\n",
    "# veriyi standardize et\n",
    "scaler = StandardScaler()\n",
    "X = scaler.fit_transform(X)\n",
    "\n",
    "# train test split olarak ikiye ayir\n",
    "X_train, X_test, y_train, y_test = train_test_split(X, y, test_size = 0.3, random_state = 42)\n",
    "\n",
    "def to_tensor(data, target):\n",
    "    return torch.tensor(data, dtype = torch.float32), torch.tensor(target, dtype = torch.long)\n",
    "\n",
    "X_train, y_train = to_tensor(X_train, y_train)\n",
    "X_test, y_test = to_tensor(X_test, y_test)"
   ]
  },
  {
   "cell_type": "markdown",
   "id": "c4b53e3b",
   "metadata": {},
   "source": [
    "#### 9.3 Radyal Temelli Fonksiyon Ağlari oluşturma"
   ]
  },
  {
   "cell_type": "code",
   "execution_count": 3,
   "id": "fea567bc",
   "metadata": {},
   "outputs": [],
   "source": [
    "def rbf_kernel(X, centers, beta):\n",
    "    return torch.exp(-beta * torch.cdist(X, centers)**2)\n",
    "\n",
    "class RBFN(nn.Module):\n",
    "    \n",
    "    def __init__(self, input_dim, num_centers, output_dim):\n",
    "        super(RBFN, self).__init__()\n",
    "        self.centers = nn.Parameter(torch.randn(num_centers, input_dim)) # rbf merkezlerini rastgele baslat\n",
    "        self.beta = nn.Parameter(torch.ones(1) * 2.0) # beta parametresi rbf in genisligini kontrol edece\n",
    "        self.linear = nn.Linear(num_centers, output_dim) # outputu tam baglantili katmana yonlendir\n",
    "    \n",
    "    def forward(self, x): # ileri yayilim\n",
    "        # rbf cekirdek fonksiyonunu hesapla\n",
    "        phi = rbf_kernel(x, self.centers, self.beta)\n",
    "        return self.linear(phi)"
   ]
  },
  {
   "cell_type": "markdown",
   "id": "d5e1fcb3",
   "metadata": {},
   "source": [
    "#### 9.4 Model Eğitimi "
   ]
  },
  {
   "cell_type": "code",
   "execution_count": null,
   "id": "3bc67089",
   "metadata": {},
   "outputs": [
    {
     "name": "stdout",
     "output_type": "stream",
     "text": [
      "Epoch 10/100, Loss: 1.0575\n",
      "Epoch 20/100, Loss: 0.9969\n",
      "Epoch 30/100, Loss: 0.9111\n",
      "Epoch 40/100, Loss: 0.8120\n",
      "Epoch 50/100, Loss: 0.7097\n",
      "Epoch 60/100, Loss: 0.6141\n",
      "Epoch 70/100, Loss: 0.5289\n",
      "Epoch 80/100, Loss: 0.4515\n",
      "Epoch 90/100, Loss: 0.3821\n",
      "Epoch 100/100, Loss: 0.3222\n"
     ]
    }
   ],
   "source": [
    "num_centers = 10\n",
    "model = RBFN(input_dim=4, num_centers=num_centers, output_dim=3)\n",
    "\n",
    "# kayip fonksyionu tanimlama ve optimization\n",
    "criterion = nn.CrossEntropyLoss()\n",
    "optimizer = optim.Adam(model.parameters(), lr = 0.01)\n",
    "\n",
    "# modeli egitelim\n",
    "num_epochs = 100\n",
    "for epoch in range(num_epochs):\n",
    "    optimizer.zero_grad() # gradyanlari sifirla\n",
    "    outputs = model(X_train) # prediction yani iler yayilim\n",
    "    loss = criterion(outputs, y_train) # loss hesapla\n",
    "    loss.backward() # geri yayilim\n",
    "    optimizer.step() # agirliklari guncelle\n",
    "    \n",
    "    if (epoch + 1) % 10 == 0:\n",
    "        print(f\"Epoch {epoch + 1}/{num_epochs}, Loss: {loss.item():.4f}\")"
   ]
  },
  {
   "cell_type": "markdown",
   "id": "eb2f7f51",
   "metadata": {},
   "source": [
    "#### 9.5 Modelin test edilmesi "
   ]
  },
  {
   "cell_type": "code",
   "execution_count": 6,
   "id": "557a971e",
   "metadata": {},
   "outputs": [
    {
     "name": "stdout",
     "output_type": "stream",
     "text": [
      "accuracy: 0.9555555582046509\n"
     ]
    }
   ],
   "source": [
    "with torch.no_grad():\n",
    "    y_pred = model(X_test) # test verisi ile tahmin et\n",
    "    accuracy = (torch.argmax(y_pred, axis=1) == y_test).float().mean().item() # dogruluk hesapla\n",
    "    print(f\"accuracy: {accuracy}\")"
   ]
  }
 ],
 "metadata": {
  "kernelspec": {
   "display_name": "Python 3",
   "language": "python",
   "name": "python3"
  },
  "language_info": {
   "codemirror_mode": {
    "name": "ipython",
    "version": 3
   },
   "file_extension": ".py",
   "mimetype": "text/x-python",
   "name": "python",
   "nbconvert_exporter": "python",
   "pygments_lexer": "ipython3",
   "version": "3.11.6"
  }
 },
 "nbformat": 4,
 "nbformat_minor": 5
}
