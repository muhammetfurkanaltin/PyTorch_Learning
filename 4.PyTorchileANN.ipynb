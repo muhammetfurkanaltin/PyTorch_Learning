{
 "cells": [
  {
   "cell_type": "markdown",
   "id": "8fb05047",
   "metadata": {},
   "source": [
    "### 4.1_Yapay Sinir Ağları Uygulaması"
   ]
  },
  {
   "cell_type": "code",
   "execution_count": 3,
   "id": "c3c54049",
   "metadata": {},
   "outputs": [
    {
     "data": {
      "text/plain": [
       "'\\nProblem tanimi: mnist ver  seti ile rakam siniflandırma projesi \\n\\nAnn: yapay sinir aglari\\n'"
      ]
     },
     "execution_count": 3,
     "metadata": {},
     "output_type": "execute_result"
    }
   ],
   "source": [
    "\"\"\"\n",
    "Problem tanimi: mnist ver  seti ile rakam siniflandırma projesi \n",
    "\n",
    "Ann: yapay sinir aglari\n",
    "\"\"\""
   ]
  },
  {
   "cell_type": "markdown",
   "id": "a0f1c6be",
   "metadata": {},
   "source": [
    "#### 4.2 Veri seti Hazırlama"
   ]
  },
  {
   "cell_type": "code",
   "execution_count": 4,
   "id": "4cc48f2a",
   "metadata": {},
   "outputs": [],
   "source": [
    "# !pip install torchvision\n",
    "import torch # tensor/matrix islemleri\n",
    "import torch.nn as nn # yapay sinir agi katmanlarini \n",
    "import torch.optim as optim # optimizasyon algoritmalarını iceren modul \n",
    "import torchvision # goruntu isleme ve pre-defined modelleri icerir\n",
    "import torchvision.transforms as transforms # goruntu donusumleri yapmak \n",
    "import matplotlib.pyplot as plt # gorsellestirme\n",
    "\n",
    "# optional: cihazi belirle gpu vs cpu \n",
    "device = torch.device(\"cuda\" if torch.cuda.is_available() else \"cpu\")\n",
    "\n",
    "# veri seti yukleme, data loading \n",
    "def get_data_loaders(batch_size = 64): #her iterasyonda istencek veri miktarı, batch size \n",
    "    transform = transforms.Compose([\n",
    "        transforms.ToTensor(), # goruntuyu tensore cevirir ve 0-255 -> 0-1 olceklendir\n",
    "        transforms.Normalize((0.5,),(0.5,)) # piksel degerlerini -1 ile 1 arasına olcekler \n",
    "    ])\n",
    "\n",
    "    # mnist veri setini indir ve egitim test kumelerini olustur\n",
    "    train_set = torchvision.datasets.MNIST(root = \"./data\", train = True, download = True, transform = transform)\n",
    "    test_set = torchvision.datasets.MNIST(root = \"./data\", train = False, download = True, transform = transform)\n",
    "\n",
    "    # pytorch veri yukleyicisini olustur \n",
    "    train_loader = torch.utils.data.DataLoader(train_set, batch_size = batch_size, shuffle= True )\n",
    "    test_loader  = torch.utils.data.DataLoader(test_set, batch_size = batch_size, shuffle= False )\n",
    "\n",
    "    return train_loader, test_loader\n",
    "\n",
    "# train_loader, test_loader = get_data_loaders()  # test için yazılmıstır , en aşagıda baglanmıstır"
   ]
  },
  {
   "cell_type": "markdown",
   "id": "588682c0",
   "metadata": {},
   "source": [
    "#### 4.3 Veri Görsellestirme"
   ]
  },
  {
   "cell_type": "code",
   "execution_count": null,
   "id": "8d8590d8",
   "metadata": {},
   "outputs": [],
   "source": [
    "# data visualization \n",
    "def visualize_samples(loader, n):\n",
    "    images, labels = next(iter(loader))\n",
    "    fig, axes = plt.subplots(1, n, figsize = (10,5)) # n farkli goruntu icin görsellestirme\n",
    "    for i in range(n):\n",
    "        axes[i].imshow(images[i].squeeze(), cmap = \"gray\")\n",
    "        axes[i].set_title(f\"label:{labels[i].item()}\")\n",
    "        axes[i].axis(\"off\")\n",
    "    plt.show()\n",
    "    \n",
    "# visualize_samples(train_loader, 4) # test için yazılmıstır , en aşagıda baglanmıstır"
   ]
  },
  {
   "cell_type": "markdown",
   "id": "324807f1",
   "metadata": {},
   "source": [
    "#### 4.4 Modelin Oluşturulması "
   ]
  },
  {
   "cell_type": "code",
   "execution_count": null,
   "id": "eed63ef9",
   "metadata": {},
   "outputs": [],
   "source": [
    "# define ann model \n",
    "\n",
    "class NeuralNetwork(nn.Module): # pytorch un nn.module sinifindan miras aliyor \n",
    "    def __init__(self): # nn insa etmek icin gerekli olan bilesenleri tanimla  \n",
    "        super(NeuralNetwork, self).__init__()\n",
    "        \n",
    "        self.flatten = nn.Flatten() # elimizde bulunan goruntuleri (2D) vektor haline cevirelim (1D) 28*28 = 784\n",
    "        \n",
    "        self.fc1  = nn.Linear(28*28, 128) # ilk bagli katmani olustur: 784 = input size, 128 = output size\n",
    "        \n",
    "        self.relu = nn.ReLU() # aktivasyon fonksiyonu olustur\n",
    "        \n",
    "        self.fc2  = nn.Linear(128,64) # ikinci tam bagli katmani olustur\n",
    "        \n",
    "        self.fc3  = nn.Linear(64, 10) # cikti katmani olustur : 64 = input size, 10 = output size (0-9 etiketleri)\n",
    "    \n",
    "    def forward(self, x): # forard propagation: ileri yayilim, giris olarak x = goruntu alsin\n",
    "        \n",
    "        x = self.flatten(x) # initial x = 28*28 lik bir goruntu - duzlestir 784 vektor haline getir \n",
    "        x = self.fc1(x)  # birinci bagli katman\n",
    "        x = self.relu(x) # aktivasyon fonk\n",
    "        x = self.fc2(x)  # ikinci bagli katman\n",
    "        x = self.relu(x) # aktivasyon fonk\n",
    "        x = self.fc3(x)  # output katmani\n",
    "        \n",
    "        return x #modelimizin ciktisini return eder\n",
    "\n",
    "# create model and compile\n",
    "model = NeuralNetwork().to(device)\n",
    "\n",
    "# kayip fonksiyonu ve optimizasyon algoritmasıni belirle \n",
    "define_loss_and_optimizer = lambda model: (\n",
    "    nn.CrossEntropyLoss(), # multi class classification problems loss func\n",
    "    optim.Adam(model.parameters(), lr = 0.001) # update weights with adam\n",
    ")\n",
    "\n",
    "# criterion, optimizer = define_loss_and_optimizer(model) # test için yazılmıstır , en aşagıda baglanmıstır"
   ]
  },
  {
   "cell_type": "markdown",
   "id": "549ecc17",
   "metadata": {},
   "source": [
    "#### 4.5 Modelin Egitilmesi"
   ]
  },
  {
   "cell_type": "code",
   "execution_count": null,
   "id": "684be304",
   "metadata": {},
   "outputs": [],
   "source": [
    "# train\n",
    "def train_model(model, train_loader, criterion, optimizer, epochs = 10):\n",
    "    model.train() # modelimizi egitim moduna alalim \n",
    "    train_losses= []\n",
    "\n",
    "    for epoch in range (epochs):\n",
    "        total_loss = 0 # toplam kayıp degeri\n",
    "\n",
    "        for images, labels in train_loader: # tum egitim verilri uzerıde iterasyon gerceklesır \n",
    "            images, labels = images.to(device), labels.to(device) # verileri cihaza bagla \n",
    "            optimizer.zero_grad() # gradyanlari sifirla\n",
    "            predictions = model(images) # modeli uygula, foward pro. \n",
    "            loss = criterion(predictions, labels) # loss hesaplama -> y_pred ile y_test \n",
    "            loss.backward() # geri yayilim yani gradyan hesaplama \n",
    "            optimizer.step() # update weights \n",
    "\n",
    "            total_loss = total_loss + loss.item()\n",
    "\n",
    "        avg_loss = total_loss / len(train_loader) # ort kayip hesaplama\n",
    "        train_losses.append(avg_loss)\n",
    "        print ( f\"epoch: {epoch+1}/{epochs}, Loss: {avg_loss: .3f}\")\n",
    "    \n",
    "    plt.figure()\n",
    "    plt.plot(range(1,epochs + 1), train_losses, marker = \"o\", linestyle = \"-\", label = \"Train Loss\")\n",
    "    plt.xlabel(\"Epochs\")\n",
    "    plt.ylabel(\"Loss\")\n",
    "    plt.title(\"Training Loss\")\n",
    "    plt.legend()\n",
    "    plt.show()\n",
    "\n",
    "# train_model(model, train_loader, criterion, optimizer, epochs = 1) # test için yazılmıstır, en aşagıda baglanmıstır"
   ]
  },
  {
   "cell_type": "markdown",
   "id": "e471c19d",
   "metadata": {},
   "source": [
    "#### 4.6 Modelin Test Edilmesi "
   ]
  },
  {
   "cell_type": "code",
   "execution_count": 8,
   "id": "fe6cd7a3",
   "metadata": {},
   "outputs": [],
   "source": [
    "def test_model(model, test_loader):\n",
    "    model.eval() # modelimzi degerlendirme moduna al \n",
    "    correct = 0 # dogru tahmin sayaci \n",
    "    total = 0 # topla veri sayaci \n",
    "\n",
    "    with torch.no_grad(): # gradyan hesalaması gereksiz oldugundan kapattik \n",
    "        for images, labels in test_loader: # test veri kumesini oguye al\n",
    "            images, labels = images.to(device), labels.to(device)\n",
    "            predictions = model(images)\n",
    "            _, predicted = torch.max(predictions, 1) # en yuksek olasılıklı sınıfın etiketini bul \n",
    "\n",
    "            total += labels.size(0) # toplam veri sayisini gucelle \n",
    "            correct += (predicted == labels).sum().item() # dogru tahminleri say \n",
    "\n",
    "    print(f\"test acc : {100*correct/total:}% \")\n",
    "\n",
    "# test_model(model, test_loader) # test için yazılmıstır, en aşagıda baglanmıstır"
   ]
  },
  {
   "cell_type": "code",
   "execution_count": 9,
   "id": "1b0d1363",
   "metadata": {},
   "outputs": [
    {
     "data": {
      "image/png": "[encoded data removed]",
      "text/plain": [
       "<Figure size 1000x500 with 5 Axes>"
      ]
     },
     "metadata": {},
     "output_type": "display_data"
    },
    {
     "name": "stdout",
     "output_type": "stream",
     "text": [
      "epoch: 1/10, Loss:  0.396\n",
      "epoch: 2/10, Loss:  0.194\n",
      "epoch: 3/10, Loss:  0.143\n",
      "epoch: 4/10, Loss:  0.111\n",
      "epoch: 5/10, Loss:  0.096\n",
      "epoch: 6/10, Loss:  0.085\n",
      "epoch: 7/10, Loss:  0.076\n",
      "epoch: 8/10, Loss:  0.068\n",
      "epoch: 9/10, Loss:  0.061\n",
      "epoch: 10/10, Loss:  0.056\n"
     ]
    },
    {
     "data": {
      "image/png": "[encoded data removed]",
      "text/plain": [
       "<Figure size 640x480 with 1 Axes>"
      ]
     },
     "metadata": {},
     "output_type": "display_data"
    },
    {
     "name": "stdout",
     "output_type": "stream",
     "text": [
      "test acc : 97.53% \n"
     ]
    }
   ],
   "source": [
    "# main \n",
    "if __name__ == \"__main__\":\n",
    "    train_loader, test_loader = get_data_loaders() # veri yukleyicilerini al\n",
    "    visualize_samples(train_loader, 5) \n",
    "    model = NeuralNetwork().to(device)\n",
    "    criterion, optimizer = define_loss_and_optimizer(model)\n",
    "    train_model(model, train_loader, criterion, optimizer)\n",
    "    test_model(model, test_loader)"
   ]
  }
 ],
 "metadata": {
  "kernelspec": {
   "display_name": "Python 3",
   "language": "python",
   "name": "python3"
  },
  "language_info": {
   "codemirror_mode": {
    "name": "ipython",
    "version": 3
   },
   "file_extension": ".py",
   "mimetype": "text/x-python",
   "name": "python",
   "nbconvert_exporter": "python",
   "pygments_lexer": "ipython3",
   "version": "3.11.6"
  }
 },
 "nbformat": 4,
 "nbformat_minor": 5
}
